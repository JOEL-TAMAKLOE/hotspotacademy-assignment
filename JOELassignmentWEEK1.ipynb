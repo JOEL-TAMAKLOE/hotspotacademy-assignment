{
 "cells": [
  {
   "cell_type": "markdown",
   "id": "7f1db6ac",
   "metadata": {},
   "source": [
    "#### QUESTION 1: Create a list of 2 strings, 5 floats, 4 intergers and append all these data types into new list called Dtypes.\n"
   ]
  },
  {
   "cell_type": "code",
   "execution_count": 1,
   "id": "aed19f94",
   "metadata": {
    "scrolled": false
   },
   "outputs": [
    {
     "data": {
      "text/plain": [
       "[('Adam', 'Apple'), (2.5, 0.3, 1.5, 3.4, 4.5), (5, 9, 2, 4)]"
      ]
     },
     "execution_count": 1,
     "metadata": {},
     "output_type": "execute_result"
    }
   ],
   "source": [
    "#solution 1\n",
    "str_list = 'Adam', 'Apple'\n",
    "flt_list = 2.5, 0.3, 1.5, 3.4, 4.5\n",
    "int_list = 5, 9, 2, 4\n",
    "Dtypes = []\n",
    "Dtypes.append(str_list) \n",
    "Dtypes.append(flt_list)\n",
    "Dtypes.append(int_list)\n",
    "Dtypes\n",
    "       "
   ]
  },
  {
   "cell_type": "markdown",
   "id": "2cdf483d",
   "metadata": {},
   "source": [
    "#### QUESTION 2: Create a list of numbers ranging from 5 with an interval of 2 and the pernultimate number should be 19"
   ]
  },
  {
   "cell_type": "code",
   "execution_count": 2,
   "id": "a5b39358",
   "metadata": {
    "scrolled": true
   },
   "outputs": [
    {
     "name": "stdout",
     "output_type": "stream",
     "text": [
      "[5, 7, 9, 11, 13, 15, 17, 19]\n"
     ]
    }
   ],
   "source": [
    "# Solution 2\n",
    "x = range(5, 20, 2)\n",
    "new_list = []\n",
    "for nums in x:\n",
    "    new_list.append(nums)\n",
    "print(new_list)\n",
    "    "
   ]
  },
  {
   "cell_type": "markdown",
   "id": "b6a1c465",
   "metadata": {},
   "source": [
    "#### QUESTION 3: For numbers in list above, Using the IF ELSE function, Print 'number + it is even' if divisible by 3' else print ' Not even'"
   ]
  },
  {
   "cell_type": "code",
   "execution_count": 3,
   "id": "c635bcef",
   "metadata": {
    "scrolled": true
   },
   "outputs": [
    {
     "name": "stdout",
     "output_type": "stream",
     "text": [
      "not even\n",
      "not even\n",
      "9 it is even\n",
      "not even\n",
      "not even\n",
      "15 it is even\n",
      "not even\n",
      "not even\n"
     ]
    }
   ],
   "source": [
    "# Solution 3\n",
    "for num in new_list:\n",
    "    if num % 3 == 0:\n",
    "        print(str(num) +' it is even')\n",
    "    else:\n",
    "        print('not even')\n",
    "\n"
   ]
  },
  {
   "cell_type": "markdown",
   "id": "886b4300",
   "metadata": {},
   "source": [
    "#### QUESTION 4: \n",
    "1. Create a variable ADA\n",
    "2. Create a variable for the number 30\n",
    "3. Print ADA is 30KM from Accra"
   ]
  },
  {
   "cell_type": "code",
   "execution_count": 4,
   "id": "33ebf1ff",
   "metadata": {},
   "outputs": [
    {
     "name": "stdout",
     "output_type": "stream",
     "text": [
      "ADA is 30KM from Accra\n"
     ]
    }
   ],
   "source": [
    "# Solution 4\n",
    "x = 'ADA'\n",
    "y = 30\n",
    "print(x,'is',str(y) + 'KM','from Accra')\n"
   ]
  },
  {
   "cell_type": "markdown",
   "id": "b7795d43",
   "metadata": {},
   "source": [
    "#### Question 5: From the items below,create a list for each data type"
   ]
  },
  {
   "cell_type": "code",
   "execution_count": 5,
   "id": "afcdb845",
   "metadata": {},
   "outputs": [],
   "source": [
    "Essentials = [False,24,'Books','Phone',10.5,'Gh_Cedi','Laptop',True,'Shelter','Food', 15,'Job','54m',20,7.5,23,40,9.0,32,48]"
   ]
  },
  {
   "cell_type": "code",
   "execution_count": 6,
   "id": "35c88509",
   "metadata": {},
   "outputs": [
    {
     "name": "stdout",
     "output_type": "stream",
     "text": [
      "[]\n",
      "[False, 24, True, 15, 20, 23, 40, 32, 48]\n",
      "[10.5, 7.5, 9.0]\n",
      "['Books', 'Phone', 'Gh_Cedi', 'Laptop', 'Shelter', 'Food', 'Job', '54m']\n"
     ]
    }
   ],
   "source": [
    "# Solution 5\n",
    "# Process should be automated please\n",
    "Essentials = [False,24,'Books','Phone',10.5,'Gh_Cedi','Laptop',True,'Shelter','Food', 15,'Job','54m',20,7.5,23,40,9.0,32,48]\n",
    "int_list = []\n",
    "flt_list = []\n",
    "string_list = []\n",
    "float_list = []\n",
    "boolean_list = []\n",
    "for item in Essentials:\n",
    "    if isinstance(item, int):\n",
    "        int_list.append(item)\n",
    "    elif isinstance(item,str):\n",
    "        string_list.append(item)\n",
    "    elif isinstance(item, bool):\n",
    "        boolean_list.append(item)\n",
    "    elif isinstance(item, float):\n",
    "        flt_list.append(item)         \n",
    "print(boolean_list)\n",
    "print(int_list)\n",
    "print(flt_list)\n",
    "print(string_list)"
   ]
  },
  {
   "cell_type": "markdown",
   "id": "e2d4f19d",
   "metadata": {},
   "source": [
    "#### Question 6: \n",
    "1. Print out the index for Shelter\n",
    "2. Print out the index for the number 20 \n",
    "3. Print out the index for the number 1 \n",
    "4. Delete the item in the 15th index"
   ]
  },
  {
   "cell_type": "code",
   "execution_count": 7,
   "id": "579b288f",
   "metadata": {},
   "outputs": [
    {
     "name": "stdout",
     "output_type": "stream",
     "text": [
      "the index for shelter, is 8\n",
      "the index for number 20, is 13\n",
      "the index for number 1, is 7\n",
      "the deleted item in the 15th index is, 23\n",
      "[False, 24, 'Books', 'Phone', 10.5, 'Gh_Cedi', 'Laptop', True, 'Shelter', 'Food', 15, 'Job', '54m', 20, 7.5, 40, 9.0, 32, 48]\n"
     ]
    }
   ],
   "source": [
    "# Solution 6\n",
    "Essentials = [False,24,'Books','Phone',10.5,'Gh_Cedi','Laptop',True,'Shelter','Food', 15,'Job','54m',20,7.5,23,40,9.0,32,48]\n",
    "#1\n",
    "shelter_index = Essentials.index('Shelter')\n",
    "print('the index for shelter, is', shelter_index)\n",
    "#2\n",
    "num20_index = Essentials.index(20)\n",
    "print('the index for number 20, is', num20_index)\n",
    "#3\n",
    "num1_index = Essentials.index(1)\n",
    "print('the index for number 1, is', num1_index)\n",
    "#4\n",
    "delitem15_index = Essentials.pop(15)\n",
    "print('the deleted item in the 15th index is,', delitem15_index)\n",
    "print(Essentials)"
   ]
  },
  {
   "cell_type": "code",
   "execution_count": null,
   "id": "5f45a79c",
   "metadata": {},
   "outputs": [],
   "source": []
  }
 ],
 "metadata": {
  "kernelspec": {
   "display_name": "Python 3 (ipykernel)",
   "language": "python",
   "name": "python3"
  },
  "language_info": {
   "codemirror_mode": {
    "name": "ipython",
    "version": 3
   },
   "file_extension": ".py",
   "mimetype": "text/x-python",
   "name": "python",
   "nbconvert_exporter": "python",
   "pygments_lexer": "ipython3",
   "version": "3.9.7"
  }
 },
 "nbformat": 4,
 "nbformat_minor": 5
}
